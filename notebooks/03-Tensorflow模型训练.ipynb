{
 "cells": [
  {
   "cell_type": "markdown",
   "metadata": {},
   "source": [
    "# Tensorflow模型训练"
   ]
  },
  {
   "cell_type": "code",
   "execution_count": 1,
   "metadata": {},
   "outputs": [
    {
     "name": "stdout",
     "output_type": "stream",
     "text": [
      "TensorFlow Version: 2.2.0\n",
      "PhysicalDevice(name='/physical_device:GPU:0', device_type='GPU')\n",
      "PhysicalDevice(name='/physical_device:GPU:1', device_type='GPU')\n"
     ]
    }
   ],
   "source": [
    "import numpy as np\n",
    "import tensorflow as tf\n",
    "from sklearn.datasets import load_iris\n",
    "from sklearn.model_selection import train_test_split\n",
    "\n",
    "\n",
    "print('TensorFlow Version:', tf.__version__)\n",
    "for device in tf.config.list_physical_devices('GPU'):\n",
    "    print(device)"
   ]
  },
  {
   "cell_type": "markdown",
   "metadata": {},
   "source": [
    "## 模型自动求导"
   ]
  },
  {
   "cell_type": "code",
   "execution_count": 9,
   "metadata": {},
   "outputs": [
    {
     "data": {
      "text/plain": [
       "<tf.Variable 'UnreadVariable' shape=() dtype=int64, numpy=1>"
      ]
     },
     "execution_count": 9,
     "metadata": {},
     "output_type": "execute_result"
    }
   ],
   "source": [
    "class MyModel(tf.keras.Model):\n",
    "    \n",
    "    def __init__(self, num_classes=3):\n",
    "        super(MyModel, self).__init__(name='MyModel')\n",
    "        self.dense1 = tf.keras.layers.Dense(32, activation='relu')\n",
    "        self.dense2 = tf.keras.layers.Dense(num_classes)\n",
    "        \n",
    "    def call(self, inputs):\n",
    "        outputs = self.dense1(inputs)\n",
    "        return self.dense2(outputs)\n",
    "    \n",
    "iris = load_iris()\n",
    "x, y = iris.data.astype('float32'), iris.target\n",
    "x_train, x_test, y_train, y_test = train_test_split(x, y, test_size=0.1)\n",
    "\n",
    "model = MyModel(num_classes=3)\n",
    "criterion = tf.keras.losses.SparseCategoricalCrossentropy(from_logits=True)\n",
    "optimizer = tf.keras.optimizers.Adam()\n",
    "\n",
    "with tf.GradientTape() as tape:\n",
    "    y_pred = model(x_train)\n",
    "    loss = criterion(y_train, y_pred)\n",
    "grads = tape.gradient(loss, model.trainable_variables)\n",
    "optimizer.apply_gradients(zip(grads, model.trainable_variables))"
   ]
  },
  {
   "cell_type": "markdown",
   "metadata": {},
   "source": [
    "## 自定义训练模型"
   ]
  },
  {
   "cell_type": "code",
   "execution_count": 20,
   "metadata": {},
   "outputs": [
    {
     "data": {
      "text/plain": [
       "<BatchDataset shapes: ((None, 4), (None,)), types: (tf.float32, tf.int64)>"
      ]
     },
     "execution_count": 20,
     "metadata": {},
     "output_type": "execute_result"
    }
   ],
   "source": [
    "class MyModel(tf.keras.Model):\n",
    "    \n",
    "    def __init__(self, num_classes=3):\n",
    "        super(MyModel, self).__init__(name='MyModel')\n",
    "        self.dense1 = tf.keras.layers.Dense(32, activation='relu')\n",
    "        self.dense2 = tf.keras.layers.Dense(num_classes)\n",
    "        \n",
    "    def call(self, inputs):\n",
    "        outputs = self.dense1(inputs)\n",
    "        return self.dense2(outputs)\n",
    "    \n",
    "iris = load_iris()\n",
    "x, y = iris.data.astype('float32'), iris.target\n",
    "\n",
    "batch_size = 64\n",
    "train_set = tf.data.Dataset.from_tensor_slices((x, y))\n",
    "train_set = train_set.shuffle(buffer_size=1024).batch(batch_size)\n",
    "train_set"
   ]
  },
  {
   "cell_type": "code",
   "execution_count": 21,
   "metadata": {},
   "outputs": [
    {
     "name": "stdout",
     "output_type": "stream",
     "text": [
      "Start of Epoch 0\n",
      "Step 0, Loss: 2.2453317642211914\n",
      "Step 1, Loss: 1.9430198669433594\n",
      "Step 2, Loss: 2.247148036956787\n",
      "Start of Epoch 1\n",
      "Step 0, Loss: 2.0725715160369873\n",
      "Step 1, Loss: 1.8647223711013794\n",
      "Step 2, Loss: 1.7192860841751099\n",
      "Start of Epoch 2\n",
      "Step 0, Loss: 1.8021800518035889\n",
      "Step 1, Loss: 1.779268741607666\n",
      "Step 2, Loss: 1.5998104810714722\n",
      "Start of Epoch 3\n",
      "Step 0, Loss: 1.5538560152053833\n",
      "Step 1, Loss: 1.7382197380065918\n",
      "Step 2, Loss: 1.4419684410095215\n",
      "Start of Epoch 4\n",
      "Step 0, Loss: 1.4901008605957031\n",
      "Step 1, Loss: 1.5317816734313965\n",
      "Step 2, Loss: 1.4127180576324463\n",
      "Start of Epoch 5\n",
      "Step 0, Loss: 1.4345848560333252\n",
      "Step 1, Loss: 1.398844838142395\n",
      "Step 2, Loss: 1.323042631149292\n",
      "Start of Epoch 6\n",
      "Step 0, Loss: 1.2679696083068848\n",
      "Step 1, Loss: 1.343008279800415\n",
      "Step 2, Loss: 1.4194293022155762\n",
      "Start of Epoch 7\n",
      "Step 0, Loss: 1.3013818264007568\n",
      "Step 1, Loss: 1.2548255920410156\n",
      "Step 2, Loss: 1.2498396635055542\n",
      "Start of Epoch 8\n",
      "Step 0, Loss: 1.2479866743087769\n",
      "Step 1, Loss: 1.2140793800354004\n",
      "Step 2, Loss: 1.224174976348877\n",
      "Start of Epoch 9\n",
      "Step 0, Loss: 1.2127763032913208\n",
      "Step 1, Loss: 1.1875746250152588\n",
      "Step 2, Loss: 1.1861579418182373\n"
     ]
    }
   ],
   "source": [
    "model = MyModel(num_classes=3)\n",
    "criterion = tf.keras.losses.SparseCategoricalCrossentropy(from_logits=True)\n",
    "optimizer = tf.keras.optimizers.Adam()\n",
    "epochs = 10\n",
    "\n",
    "for epoch in range(epochs):\n",
    "    print(f'Start of Epoch {epoch}')\n",
    "    \n",
    "    for step, (inputs, targets) in enumerate(train_set):\n",
    "        with tf.GradientTape() as tape:\n",
    "            outputs = model(inputs)\n",
    "            loss = criterion(targets, outputs)\n",
    "        grads = tape.gradient(loss, model.trainable_weights)\n",
    "        optimizer.apply_gradients(zip(grads, model.trainable_weights))\n",
    "        print(f'Step {step}, Loss: {float(loss)}')\n",
    "        "
   ]
  },
  {
   "cell_type": "markdown",
   "metadata": {},
   "source": [
    "## 自定义训练模型进阶"
   ]
  },
  {
   "cell_type": "code",
   "execution_count": 41,
   "metadata": {},
   "outputs": [],
   "source": [
    "class MyModel(tf.keras.Model):\n",
    "    \n",
    "    def __init__(self, num_classes=3):\n",
    "        super(MyModel, self).__init__(name='MyModel')\n",
    "        self.dense1 = tf.keras.layers.Dense(32, activation='relu')\n",
    "        self.dense2 = tf.keras.layers.Dense(num_classes)\n",
    "        \n",
    "    def call(self, inputs):\n",
    "        outputs = self.dense1(inputs)\n",
    "        return self.dense2(outputs)\n",
    "    \n",
    "iris = load_iris()\n",
    "x, y = iris.data.astype('float32'), iris.target\n",
    "x_train, x_valid, y_train, y_valid = train_test_split(x, y, test_size=0.15)\n",
    "\n",
    "batch_size = 16\n",
    "train_set = tf.data.Dataset.from_tensor_slices((x_train, y_train))\n",
    "train_set = train_set.shuffle(buffer_size=1024).batch(batch_size)\n",
    "valid_set = tf.data.Dataset.from_tensor_slices((x_valid, y_valid))\n",
    "valid_set = valid_set.batch(batch_size)"
   ]
  },
  {
   "cell_type": "code",
   "execution_count": 42,
   "metadata": {},
   "outputs": [
    {
     "name": "stdout",
     "output_type": "stream",
     "text": [
      "Train Accuracy: 0.3700787425041199\n",
      "Valid Accuracy: 0.1304347813129425\n",
      "Train Accuracy: 0.3700787425041199\n",
      "Valid Accuracy: 0.1304347813129425\n",
      "Train Accuracy: 0.3700787425041199\n",
      "Valid Accuracy: 0.17391304671764374\n",
      "Train Accuracy: 0.4251968562602997\n",
      "Valid Accuracy: 0.5652173757553101\n",
      "Train Accuracy: 0.5590550899505615\n",
      "Valid Accuracy: 0.5652173757553101\n",
      "Train Accuracy: 0.4960629940032959\n",
      "Valid Accuracy: 0.43478259444236755\n",
      "Train Accuracy: 0.4251968562602997\n",
      "Valid Accuracy: 0.260869562625885\n",
      "Train Accuracy: 0.3858267664909363\n",
      "Valid Accuracy: 0.21739129722118378\n",
      "Train Accuracy: 0.3779527544975281\n",
      "Valid Accuracy: 0.17391304671764374\n",
      "Train Accuracy: 0.3858267664909363\n",
      "Valid Accuracy: 0.260869562625885\n",
      "Train Accuracy: 0.3937007784843445\n",
      "Valid Accuracy: 0.260869562625885\n",
      "Train Accuracy: 0.4409448802471161\n",
      "Valid Accuracy: 0.3913043439388275\n",
      "Train Accuracy: 0.6062992215156555\n",
      "Valid Accuracy: 0.6086956262588501\n",
      "Train Accuracy: 0.6929134130477905\n",
      "Valid Accuracy: 0.6086956262588501\n",
      "Train Accuracy: 0.7086614370346069\n",
      "Valid Accuracy: 0.6086956262588501\n",
      "Train Accuracy: 0.7244094610214233\n",
      "Valid Accuracy: 0.6086956262588501\n",
      "Train Accuracy: 0.7716535329818726\n",
      "Valid Accuracy: 0.782608687877655\n",
      "Train Accuracy: 0.8031495809555054\n",
      "Valid Accuracy: 0.8260869383811951\n",
      "Train Accuracy: 0.8031495809555054\n",
      "Valid Accuracy: 0.6086956262588501\n",
      "Train Accuracy: 0.748031497001648\n",
      "Valid Accuracy: 0.6521739363670349\n"
     ]
    }
   ],
   "source": [
    "criterion = tf.keras.losses.SparseCategoricalCrossentropy(from_logits=True)\n",
    "optimizer = tf.keras.optimizers.Adam()\n",
    "train_metric = tf.keras.metrics.SparseCategoricalAccuracy()\n",
    "valid_metric = tf.keras.metrics.SparseCategoricalAccuracy()\n",
    "model = MyModel(num_classes=3)\n",
    "epochs = 20\n",
    "\n",
    "for epoch in range(epochs):\n",
    "    \n",
    "    for step, (inputs, targets) in enumerate(train_set):\n",
    "        with tf.GradientTape() as tape:\n",
    "            outputs = model(inputs)\n",
    "            loss = criterion(targets, outputs)\n",
    "        grads = tape.gradient(loss, model.trainable_weights)\n",
    "        optimizer.apply_gradients(zip(grads, model.trainable_weights))\n",
    "        train_metric(targets, outputs)\n",
    "    print(f'Train Accuracy: {float(train_metric.result())}')    \n",
    "    train_metric.reset_states()\n",
    "    \n",
    "    for step, (inputs, targets) in enumerate(valid_set):\n",
    "        outputs = model(inputs)\n",
    "        valid_metric(targets, outputs)\n",
    "    print(f'Valid Accuracy: {float(valid_metric.result())}')\n",
    "    valid_metric.reset_states()\n"
   ]
  },
  {
   "cell_type": "code",
   "execution_count": null,
   "metadata": {},
   "outputs": [],
   "source": []
  }
 ],
 "metadata": {
  "kernelspec": {
   "display_name": "Python 3",
   "language": "python",
   "name": "python3"
  },
  "language_info": {
   "codemirror_mode": {
    "name": "ipython",
    "version": 3
   },
   "file_extension": ".py",
   "mimetype": "text/x-python",
   "name": "python",
   "nbconvert_exporter": "python",
   "pygments_lexer": "ipython3",
   "version": "3.8.3"
  }
 },
 "nbformat": 4,
 "nbformat_minor": 4
}
