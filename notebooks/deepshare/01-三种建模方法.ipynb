{
 "cells": [
  {
   "cell_type": "markdown",
   "metadata": {},
   "source": [
    "# 三种建模方法"
   ]
  },
  {
   "cell_type": "code",
   "execution_count": 13,
   "metadata": {},
   "outputs": [
    {
     "name": "stdout",
     "output_type": "stream",
     "text": [
      "TensorFlow Version: 2.2.0\n",
      "PhysicalDevice(name='/physical_device:GPU:0', device_type='GPU')\n",
      "PhysicalDevice(name='/physical_device:GPU:1', device_type='GPU')\n"
     ]
    }
   ],
   "source": [
    "import tensorflow as tf\n",
    "from sklearn.datasets import load_iris\n",
    "\n",
    "\n",
    "print('TensorFlow Version:', tf.__version__)\n",
    "for device in tf.config.list_physical_devices('GPU'):\n",
    "    print(device)"
   ]
  },
  {
   "cell_type": "markdown",
   "metadata": {},
   "source": [
    "## 顺序模型 （Sequential Model）"
   ]
  },
  {
   "cell_type": "code",
   "execution_count": 33,
   "metadata": {},
   "outputs": [
    {
     "name": "stdout",
     "output_type": "stream",
     "text": [
      "Epoch 1/10\n",
      "5/5 [==============================] - 0s 927us/step - loss: 0.9624 - sparse_categorical_accuracy: 0.7067\n",
      "Epoch 2/10\n",
      "5/5 [==============================] - 0s 1ms/step - loss: 0.7170 - sparse_categorical_accuracy: 0.6733\n",
      "Epoch 3/10\n",
      "5/5 [==============================] - 0s 921us/step - loss: 0.5652 - sparse_categorical_accuracy: 0.6800\n",
      "Epoch 4/10\n",
      "5/5 [==============================] - 0s 1ms/step - loss: 0.5159 - sparse_categorical_accuracy: 0.6867\n",
      "Epoch 5/10\n",
      "5/5 [==============================] - 0s 949us/step - loss: 0.4568 - sparse_categorical_accuracy: 0.8400\n",
      "Epoch 6/10\n",
      "5/5 [==============================] - 0s 1ms/step - loss: 0.4082 - sparse_categorical_accuracy: 0.9467\n",
      "Epoch 7/10\n",
      "5/5 [==============================] - 0s 797us/step - loss: 0.3744 - sparse_categorical_accuracy: 0.9400\n",
      "Epoch 8/10\n",
      "5/5 [==============================] - 0s 1ms/step - loss: 0.3480 - sparse_categorical_accuracy: 0.9600\n",
      "Epoch 9/10\n",
      "5/5 [==============================] - 0s 759us/step - loss: 0.3208 - sparse_categorical_accuracy: 0.9067\n",
      "Epoch 10/10\n",
      "5/5 [==============================] - 0s 1ms/step - loss: 0.2899 - sparse_categorical_accuracy: 0.9667\n"
     ]
    },
    {
     "data": {
      "text/plain": [
       "<tensorflow.python.keras.callbacks.History at 0x7fad3827dd00>"
      ]
     },
     "execution_count": 33,
     "metadata": {},
     "output_type": "execute_result"
    }
   ],
   "source": [
    "model = tf.keras.Sequential()\n",
    "model.add(tf.keras.layers.Dense(32, activation='relu', input_shape=(4,)))\n",
    "model.add(tf.keras.layers.Dense(3))\n",
    "\n",
    "model.compile(\n",
    "    optimizer=tf.keras.optimizers.Adam(1e-2),\n",
    "    loss=tf.keras.losses.SparseCategoricalCrossentropy(from_logits=True),\n",
    "    metrics=[tf.keras.metrics.SparseCategoricalAccuracy()]\n",
    ")\n",
    "\n",
    "iris = load_iris()\n",
    "x, y = iris.data, iris.target\n",
    "model.fit(x, y, epochs=10, batch_size=32)"
   ]
  },
  {
   "cell_type": "markdown",
   "metadata": {},
   "source": [
    "## 函数式模型（Functional Model）"
   ]
  },
  {
   "cell_type": "code",
   "execution_count": 34,
   "metadata": {},
   "outputs": [
    {
     "name": "stdout",
     "output_type": "stream",
     "text": [
      "Epoch 1/10\n",
      "5/5 [==============================] - 0s 1ms/step - loss: 1.3660 - sparse_categorical_accuracy: 0.3000\n",
      "Epoch 2/10\n",
      "5/5 [==============================] - 0s 1ms/step - loss: 0.9799 - sparse_categorical_accuracy: 0.5667\n",
      "Epoch 3/10\n",
      "5/5 [==============================] - 0s 2ms/step - loss: 0.7850 - sparse_categorical_accuracy: 0.6667\n",
      "Epoch 4/10\n",
      "5/5 [==============================] - 0s 829us/step - loss: 0.6396 - sparse_categorical_accuracy: 0.8067\n",
      "Epoch 5/10\n",
      "5/5 [==============================] - 0s 1ms/step - loss: 0.5476 - sparse_categorical_accuracy: 0.8000\n",
      "Epoch 6/10\n",
      "5/5 [==============================] - 0s 807us/step - loss: 0.4975 - sparse_categorical_accuracy: 0.6933\n",
      "Epoch 7/10\n",
      "5/5 [==============================] - 0s 1ms/step - loss: 0.4630 - sparse_categorical_accuracy: 0.8200\n",
      "Epoch 8/10\n",
      "5/5 [==============================] - 0s 969us/step - loss: 0.4264 - sparse_categorical_accuracy: 0.8267\n",
      "Epoch 9/10\n",
      "5/5 [==============================] - 0s 918us/step - loss: 0.3855 - sparse_categorical_accuracy: 0.9267\n",
      "Epoch 10/10\n",
      "5/5 [==============================] - 0s 1ms/step - loss: 0.3656 - sparse_categorical_accuracy: 0.9467\n"
     ]
    },
    {
     "data": {
      "text/plain": [
       "<tensorflow.python.keras.callbacks.History at 0x7fad381c1a30>"
      ]
     },
     "execution_count": 34,
     "metadata": {},
     "output_type": "execute_result"
    }
   ],
   "source": [
    "inputs = tf.keras.Input(shape=(4,))\n",
    "outputs = tf.keras.layers.Dense(32, activation='relu')(inputs)\n",
    "outputs = tf.keras.layers.Dense(3)(outputs)\n",
    "model = tf.keras.Model(inputs=inputs, outputs=outputs)\n",
    "\n",
    "model.compile(\n",
    "    optimizer=tf.keras.optimizers.Adam(1e-2),\n",
    "    loss=tf.keras.losses.SparseCategoricalCrossentropy(from_logits=True),\n",
    "    metrics=[tf.keras.metrics.SparseCategoricalAccuracy()]\n",
    ")\n",
    "\n",
    "iris = load_iris()\n",
    "x, y = iris.data, iris.target\n",
    "model.fit(x, y, epochs=10, batch_size=32)"
   ]
  },
  {
   "cell_type": "markdown",
   "metadata": {},
   "source": [
    "## 子类化模型（Subclassing Model）"
   ]
  },
  {
   "cell_type": "code",
   "execution_count": 35,
   "metadata": {},
   "outputs": [
    {
     "name": "stdout",
     "output_type": "stream",
     "text": [
      "Epoch 1/10\n",
      "5/5 [==============================] - 0s 1ms/step - loss: 1.1182 - sparse_categorical_accuracy: 0.5400\n",
      "Epoch 2/10\n",
      "5/5 [==============================] - 0s 1ms/step - loss: 0.8783 - sparse_categorical_accuracy: 0.6667\n",
      "Epoch 3/10\n",
      "5/5 [==============================] - 0s 1ms/step - loss: 0.7056 - sparse_categorical_accuracy: 0.6667\n",
      "Epoch 4/10\n",
      "5/5 [==============================] - 0s 1ms/step - loss: 0.5845 - sparse_categorical_accuracy: 0.7333\n",
      "Epoch 5/10\n",
      "5/5 [==============================] - 0s 758us/step - loss: 0.5273 - sparse_categorical_accuracy: 0.6933\n",
      "Epoch 6/10\n",
      "5/5 [==============================] - 0s 1ms/step - loss: 0.4738 - sparse_categorical_accuracy: 0.7733\n",
      "Epoch 7/10\n",
      "5/5 [==============================] - 0s 1ms/step - loss: 0.4231 - sparse_categorical_accuracy: 0.7467\n",
      "Epoch 8/10\n",
      "5/5 [==============================] - 0s 825us/step - loss: 0.3869 - sparse_categorical_accuracy: 0.9667\n",
      "Epoch 9/10\n",
      "5/5 [==============================] - 0s 1ms/step - loss: 0.3511 - sparse_categorical_accuracy: 0.9733\n",
      "Epoch 10/10\n",
      "5/5 [==============================] - 0s 857us/step - loss: 0.3193 - sparse_categorical_accuracy: 0.9667\n"
     ]
    },
    {
     "data": {
      "text/plain": [
       "<tensorflow.python.keras.callbacks.History at 0x7fad381c1400>"
      ]
     },
     "execution_count": 35,
     "metadata": {},
     "output_type": "execute_result"
    }
   ],
   "source": [
    "class MyModel(tf.keras.Model):\n",
    "    def __init__(self, num_classes=3):\n",
    "        super(MyModel, self).__init__()\n",
    "        self.dense1 = tf.keras.layers.Dense(32, activation='relu')\n",
    "        self.dense2 = tf.keras.layers.Dense(num_classes)\n",
    "        \n",
    "    def call(self, inputs):\n",
    "        outputs = self.dense1(inputs)\n",
    "        return self.dense2(outputs)\n",
    "        \n",
    "model = MyModel(num_classes=3)\n",
    "\n",
    "model.compile(\n",
    "    optimizer=tf.keras.optimizers.Adam(1e-2),\n",
    "    loss=tf.keras.losses.SparseCategoricalCrossentropy(from_logits=True),\n",
    "    metrics=[tf.keras.metrics.SparseCategoricalAccuracy()]\n",
    ")\n",
    "\n",
    "iris = load_iris()\n",
    "x, y = iris.data, iris.target\n",
    "model.fit(x, y, epochs=10, batch_size=32)"
   ]
  },
  {
   "cell_type": "code",
   "execution_count": null,
   "metadata": {},
   "outputs": [],
   "source": []
  }
 ],
 "metadata": {
  "kernelspec": {
   "display_name": "Python 3",
   "language": "python",
   "name": "python3"
  },
  "language_info": {
   "codemirror_mode": {
    "name": "ipython",
    "version": 3
   },
   "file_extension": ".py",
   "mimetype": "text/x-python",
   "name": "python",
   "nbconvert_exporter": "python",
   "pygments_lexer": "ipython3",
   "version": "3.8.3"
  }
 },
 "nbformat": 4,
 "nbformat_minor": 4
}
